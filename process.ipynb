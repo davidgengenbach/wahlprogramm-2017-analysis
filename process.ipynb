{
 "cells": [
  {
   "cell_type": "code",
   "execution_count": null,
   "metadata": {
    "collapsed": true
   },
   "outputs": [],
   "source": [
    "from glob import glob\n",
    "import textract\n",
    "import requests\n",
    "import os\n",
    "import gensim\n",
    "from gensim.utils import smart_open, simple_preprocess\n",
    "from gensim.corpora.wikicorpus import _extract_pages, filter_wiki\n",
    "import logging\n",
    "import pandas as pd \n",
    "from IPython.display import display\n",
    "from wordcloud import WordCloud\n",
    "import matplotlib.pyplot as plt\n",
    "\n",
    "logging.basicConfig(format='%(levelname)s : %(message)s', level=logging.INFO)\n",
    "logging.root.level = logging.INFO  # ipython sometimes messes up the logging setup; restore"
   ]
  },
  {
   "cell_type": "code",
   "execution_count": null,
   "metadata": {},
   "outputs": [],
   "source": [
    "PDF_FOLDER = 'data/pdfs'\n",
    "IMAGES_FOLDER = 'data/images'\n",
    "\n",
    "partei_pdfs = [\n",
    "    ('cdu', 'https://www.cdu.de/system/tdf/media/dokumente/170703regierungsprogramm2017.pdf?file=1'),\n",
    "    ('spd', 'https://www.spd.de/fileadmin/Dokumente/Bundesparteitag_2017/Es_ist_Zeit_fuer_mehr_Gerechtigkeit-Unser_Regierungsprogramm.pdf'),\n",
    "    ('die-link', 'https://www.die-linke.de/fileadmin/download/wahlen2017/wahlprogramm2017/die_linke_wahlprogramm_2017.pdf'),\n",
    "    ('afd', 'https://www.afd.de/wp-content/uploads/sites/111/2017/06/2017-06-01_AfD-Bundestagswahlprogramm_Onlinefassung.pdf'),\n",
    "    ('fdp', 'https://www.fdp.de/sites/default/files/uploads/2017/08/07/20170807-wahlprogramm-wp-2017-v16.pdf'),\n",
    "    ('gruene', 'https://www.gruene.de/fileadmin/user_upload/Dokumente/BUENDNIS_90_DIE_GRUENEN_Bundestagswahlprogramm_2017.pdf'),\n",
    "    ('piratenpartei', 'https://www.piratenpartei.de/files/2017/06/Wahlprogramm-BTW2017.pdf'),\n",
    "    ('wv', 'http://www.wv-leipzig.de/wp-content/uploads/2017/04/FW-Wahlprogramm-2017-Die-anstaendige-Alternative.pdf')\n",
    "]\n",
    "\n",
    "def download_file(url, filename):\n",
    "    res = requests.get(url)\n",
    "    with open(filename, 'wb') as f:\n",
    "        f.write(res.content)\n",
    "os.makedirs(PDF_FOLDER, exist_ok = True)\n",
    "\n",
    "for partei, pdf_url in partei_pdfs:\n",
    "    filename = '{}/{}.pdf'.format(PDF_FOLDER, partei)\n",
    "    if os.path.exists(filename): continue\n",
    "    print('Downloading: {}'.format(partei))\n",
    "    download_file(pdf_url, filename)"
   ]
  },
  {
   "cell_type": "code",
   "execution_count": null,
   "metadata": {},
   "outputs": [],
   "source": [
    "data= {}\n",
    "for pdf_file in glob('{}/*.pdf'.format(PDF_FOLDER)):\n",
    "    partei = pdf_file.split('/')[-1].split('.')[0]\n",
    "    print('Extracting pdf text: {}'.format(partei))\n",
    "    text = textract.process(pdf_file)\n",
    "    data[partei] = text"
   ]
  },
  {
   "cell_type": "code",
   "execution_count": null,
   "metadata": {},
   "outputs": [],
   "source": [
    "def get_stopwords(file = 'data/de-stopwords.txt'):\n",
    "    with open(file) as f:\n",
    "        return [x.strip() for x in f.read().split('\\n') if x.strip() != '']\n",
    "\n",
    "def tokenize(text, stopwords = get_stopwords()):\n",
    "    return [token for token in simple_preprocess(text) if token not in stopwords]\n",
    "\n",
    "def clean_text(text):\n",
    "    text = text.replace('\\n', ' ')\n",
    "    text = ' '.join([x.strip().lower() for x in text.split()])\n",
    "    return tokenize(text)\n",
    "\n",
    "cleaned_data = {}\n",
    "for partei, text in data.items():\n",
    "    print('Partei: {}'.format(partei))\n",
    "    text = text.decode('utf-8')\n",
    "    text = clean_text(text)\n",
    "    cleaned_data[partei] = text\n",
    "    df_words = pd.DataFrame(text, columns = ['word'])\n",
    "    display(df_words.word.value_counts().head().to_frame())"
   ]
  },
  {
   "cell_type": "code",
   "execution_count": null,
   "metadata": {},
   "outputs": [],
   "source": [
    "def wc_plot(words, wc_size = (800, 800), max_words = 50):\n",
    "    fig, ax = plt.subplots(figsize = (20, 20))\n",
    "    wordcloud = WordCloud(background_color='white', width = wc_size[0], height = wc_size[1], max_words=max_words).generate(' '.join(words))\n",
    "    plt.imshow(wordcloud, interpolation='bilinear')\n",
    "    plt.axis(\"off\")\n",
    "    return fig, ax\n",
    "\n",
    "for partei, words in cleaned_data.items():\n",
    "    fig, ax = wc_plot(words)\n",
    "    fig.suptitle('Partei: {}'.format(partei), fontsize = 40)\n",
    "    fig.savefig('{}/wc_{}.png'.format(IMAGES_FOLDER, partei), dpi = 120)\n",
    "    plt.close(fig)\n"
   ]
  },
  {
   "cell_type": "code",
   "execution_count": null,
   "metadata": {},
   "outputs": [],
   "source": [
    "d = []\n",
    "for partei, words in cleaned_data.items():\n",
    "    for word in words:\n",
    "        d.append((partei, word))\n",
    "\n",
    "df_words = pd.DataFrame(d, columns = ['partei', 'word'])\n",
    "df_partei_lengths = pd.DataFrame({partei: [len(text)] for partei, text in data.items()}).T.rename(columns={0: 'text_length'}).sort_values(by = 'text_length')\n",
    "fig, ax = plt.subplots(figsize = (12, 6))\n",
    "df_partei_lengths.plot(kind = 'barh', legend = False, ax = ax)\n",
    "ax.set_xlabel('# characters')\n",
    "fig.suptitle('Wahlprogramm text length per partei', fontsize = 16)\n",
    "fig.savefig('{}/text_lengths.png'.format(IMAGES_FOLDER), dpi = 100)\n",
    "plt.close(fig)"
   ]
  }
 ],
 "metadata": {
  "anaconda-cloud": {},
  "kernelspec": {
   "display_name": "Python [conda root]",
   "language": "python",
   "name": "conda-root-py"
  },
  "language_info": {
   "codemirror_mode": {
    "name": "ipython",
    "version": 3
   },
   "file_extension": ".py",
   "mimetype": "text/x-python",
   "name": "python",
   "nbconvert_exporter": "python",
   "pygments_lexer": "ipython3",
   "version": "3.5.3"
  },
  "toc": {
   "colors": {
    "hover_highlight": "#DAA520",
    "navigate_num": "#000000",
    "navigate_text": "#333333",
    "running_highlight": "#FF0000",
    "selected_highlight": "#FFD700",
    "sidebar_border": "#EEEEEE",
    "wrapper_background": "#FFFFFF"
   },
   "moveMenuLeft": true,
   "nav_menu": {
    "height": "4px",
    "width": "254px"
   },
   "navigate_menu": true,
   "number_sections": true,
   "sideBar": true,
   "threshold": 4,
   "toc_cell": false,
   "toc_section_display": "block",
   "toc_window_display": false,
   "widenNotebook": false
  }
 },
 "nbformat": 4,
 "nbformat_minor": 2
}
